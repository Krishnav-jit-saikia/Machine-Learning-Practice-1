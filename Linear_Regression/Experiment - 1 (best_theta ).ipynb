{
 "cells": [
  {
   "cell_type": "code",
   "execution_count": 1,
   "id": "c084a4cd",
   "metadata": {},
   "outputs": [],
   "source": [
    "import pandas as pd\n",
    "import numpy as np\n",
    "import matplotlib.pyplot as plt\n",
    "import seaborn as sns\n",
    "from sklearn.preprocessing import add_dummy_feature"
   ]
  },
  {
   "cell_type": "code",
   "execution_count": 21,
   "id": "76cb43a5",
   "metadata": {},
   "outputs": [
    {
     "data": {
      "text/html": [
       "<div>\n",
       "<style scoped>\n",
       "    .dataframe tbody tr th:only-of-type {\n",
       "        vertical-align: middle;\n",
       "    }\n",
       "\n",
       "    .dataframe tbody tr th {\n",
       "        vertical-align: top;\n",
       "    }\n",
       "\n",
       "    .dataframe thead th {\n",
       "        text-align: right;\n",
       "    }\n",
       "</style>\n",
       "<table border=\"1\" class=\"dataframe\">\n",
       "  <thead>\n",
       "    <tr style=\"text-align: right;\">\n",
       "      <th></th>\n",
       "      <th>cgpa</th>\n",
       "      <th>package</th>\n",
       "    </tr>\n",
       "  </thead>\n",
       "  <tbody>\n",
       "    <tr>\n",
       "      <th>0</th>\n",
       "      <td>6.89</td>\n",
       "      <td>3.26</td>\n",
       "    </tr>\n",
       "    <tr>\n",
       "      <th>1</th>\n",
       "      <td>5.12</td>\n",
       "      <td>1.98</td>\n",
       "    </tr>\n",
       "    <tr>\n",
       "      <th>2</th>\n",
       "      <td>7.82</td>\n",
       "      <td>3.25</td>\n",
       "    </tr>\n",
       "    <tr>\n",
       "      <th>3</th>\n",
       "      <td>7.42</td>\n",
       "      <td>3.67</td>\n",
       "    </tr>\n",
       "    <tr>\n",
       "      <th>4</th>\n",
       "      <td>6.94</td>\n",
       "      <td>3.57</td>\n",
       "    </tr>\n",
       "    <tr>\n",
       "      <th>...</th>\n",
       "      <td>...</td>\n",
       "      <td>...</td>\n",
       "    </tr>\n",
       "    <tr>\n",
       "      <th>195</th>\n",
       "      <td>6.93</td>\n",
       "      <td>2.46</td>\n",
       "    </tr>\n",
       "    <tr>\n",
       "      <th>196</th>\n",
       "      <td>5.89</td>\n",
       "      <td>2.57</td>\n",
       "    </tr>\n",
       "    <tr>\n",
       "      <th>197</th>\n",
       "      <td>7.21</td>\n",
       "      <td>3.24</td>\n",
       "    </tr>\n",
       "    <tr>\n",
       "      <th>198</th>\n",
       "      <td>7.63</td>\n",
       "      <td>3.96</td>\n",
       "    </tr>\n",
       "    <tr>\n",
       "      <th>199</th>\n",
       "      <td>6.22</td>\n",
       "      <td>2.33</td>\n",
       "    </tr>\n",
       "  </tbody>\n",
       "</table>\n",
       "<p>200 rows × 2 columns</p>\n",
       "</div>"
      ],
      "text/plain": [
       "     cgpa  package\n",
       "0    6.89     3.26\n",
       "1    5.12     1.98\n",
       "2    7.82     3.25\n",
       "3    7.42     3.67\n",
       "4    6.94     3.57\n",
       "..    ...      ...\n",
       "195  6.93     2.46\n",
       "196  5.89     2.57\n",
       "197  7.21     3.24\n",
       "198  7.63     3.96\n",
       "199  6.22     2.33\n",
       "\n",
       "[200 rows x 2 columns]"
      ]
     },
     "execution_count": 21,
     "metadata": {},
     "output_type": "execute_result"
    }
   ],
   "source": [
    "df = pd.read_csv('placement_data.csv')\n",
    "df"
   ]
  },
  {
   "cell_type": "code",
   "execution_count": 12,
   "id": "144e66b9",
   "metadata": {},
   "outputs": [
    {
     "data": {
      "text/plain": [
       "cgpa       0\n",
       "package    0\n",
       "dtype: int64"
      ]
     },
     "execution_count": 12,
     "metadata": {},
     "output_type": "execute_result"
    }
   ],
   "source": [
    "df.isnull().sum()"
   ]
  },
  {
   "cell_type": "code",
   "execution_count": 13,
   "id": "7e7d7e79",
   "metadata": {
    "scrolled": false
   },
   "outputs": [
    {
     "data": {
      "image/png": "[encoded data removed]",
      "text/plain": [
       "<Figure size 640x480 with 1 Axes>"
      ]
     },
     "metadata": {},
     "output_type": "display_data"
    }
   ],
   "source": [
    "plt.scatter(df['cgpa'], df['package'])\n",
    "plt.xlabel('cgpa')\n",
    "plt.ylabel('Package')\n",
    "plt.show()"
   ]
  },
  {
   "cell_type": "code",
   "execution_count": 31,
   "id": "5be867bd",
   "metadata": {},
   "outputs": [
    {
     "data": {
      "text/plain": [
       "<PandasArray>\n",
       "[\n",
       "[3.26],\n",
       "[1.98],\n",
       "[3.25],\n",
       "[3.67],\n",
       "[3.57],\n",
       "[2.99],\n",
       "[2.6],\n",
       "[2.48],\n",
       "[2.31],\n",
       "[3.51],\n",
       "[1.86],\n",
       "[2.6],\n",
       "[3.65],\n",
       "[2.89],\n",
       "[3.42],\n",
       "[3.23],\n",
       "[2.35],\n",
       "[2.09],\n",
       "[2.98],\n",
       "[2.83],\n",
       "[3.16],\n",
       "[2.93],\n",
       "[2.3],\n",
       "[2.48],\n",
       "[2.71],\n",
       "[3.65],\n",
       "[3.42],\n",
       "[2.16],\n",
       "[2.24],\n",
       "[3.49],\n",
       "[3.26],\n",
       "[3.89],\n",
       "[3.08],\n",
       "[2.73],\n",
       "[3.42],\n",
       "[2.87],\n",
       "[2.84],\n",
       "[2.43],\n",
       "[4.36],\n",
       "[3.33],\n",
       "[4.02],\n",
       "[2.7],\n",
       "[2.54],\n",
       "[2.76],\n",
       "[1.86],\n",
       "[3.58],\n",
       "[2.26],\n",
       "[3.26],\n",
       "[4.09],\n",
       "[4.62],\n",
       "[4.43],\n",
       "[3.79],\n",
       "[4.11],\n",
       "[2.61],\n",
       "[3.09],\n",
       "[3.39],\n",
       "[2.74],\n",
       "[1.94],\n",
       "[3.09],\n",
       "[3.31],\n",
       "[2.19],\n",
       "[1.61],\n",
       "[2.09],\n",
       "[4.25],\n",
       "[2.92],\n",
       "[3.81],\n",
       "[1.63],\n",
       "[2.89],\n",
       "[2.99],\n",
       "[2.94],\n",
       "[2.35],\n",
       "[3.34],\n",
       "[3.62],\n",
       "[4.03],\n",
       "[3.44],\n",
       "[3.28],\n",
       "[3.15],\n",
       "[4.6],\n",
       "[2.21],\n",
       "[3.0],\n",
       "[3.44],\n",
       "[2.2],\n",
       "[2.17],\n",
       "[3.49],\n",
       "[1.53],\n",
       "[1.48],\n",
       "[2.77],\n",
       "[3.55],\n",
       "[1.48],\n",
       "[2.72],\n",
       "[2.66],\n",
       "[2.14],\n",
       "[4.0],\n",
       "[3.08],\n",
       "[2.42],\n",
       "[2.79],\n",
       "[2.61],\n",
       "[2.84],\n",
       "[3.83],\n",
       "[3.24],\n",
       "[4.14],\n",
       "[3.52],\n",
       "[1.37],\n",
       "[3.0],\n",
       "[3.74],\n",
       "[2.82],\n",
       "[2.19],\n",
       "[2.59],\n",
       "[3.54],\n",
       "[4.06],\n",
       "[3.76],\n",
       "[2.25],\n",
       "[4.1],\n",
       "[2.37],\n",
       "[1.87],\n",
       "[4.21],\n",
       "[3.33],\n",
       "[2.99],\n",
       "[2.88],\n",
       "[2.65],\n",
       "[1.73],\n",
       "[3.02],\n",
       "[2.01],\n",
       "[2.3],\n",
       "[2.31],\n",
       "[3.16],\n",
       "[2.6],\n",
       "[3.11],\n",
       "[3.34],\n",
       "[3.12],\n",
       "[2.49],\n",
       "[2.01],\n",
       "[2.48],\n",
       "[2.58],\n",
       "[2.83],\n",
       "[2.6],\n",
       "[2.1],\n",
       "[3.13],\n",
       "[3.89],\n",
       "[2.4],\n",
       "[3.15],\n",
       "[3.18],\n",
       "[3.04],\n",
       "[1.54],\n",
       "[2.42],\n",
       "[2.18],\n",
       "[2.46],\n",
       "[2.21],\n",
       "[3.4],\n",
       "[3.67],\n",
       "[2.73],\n",
       "[2.76],\n",
       "[3.08],\n",
       "[3.99],\n",
       "[2.85],\n",
       "[3.09],\n",
       "[3.13],\n",
       "[2.7],\n",
       "[3.04],\n",
       "[4.08],\n",
       "[2.93],\n",
       "[3.33],\n",
       "[2.55],\n",
       "[3.91],\n",
       "[3.82],\n",
       "[4.08],\n",
       "[3.98],\n",
       "[3.6],\n",
       "[3.52],\n",
       "[4.37],\n",
       "[2.87],\n",
       "[3.76],\n",
       "[2.51],\n",
       "[2.56],\n",
       "[2.99],\n",
       "[3.5],\n",
       "[3.23],\n",
       "[3.64],\n",
       "[3.63],\n",
       "[3.03],\n",
       "[2.72],\n",
       "[3.89],\n",
       "[2.08],\n",
       "[2.72],\n",
       "[3.14],\n",
       "[3.18],\n",
       "[3.47],\n",
       "[2.44],\n",
       "[3.08],\n",
       "[4.06],\n",
       "[2.69],\n",
       "[3.48],\n",
       "[3.75],\n",
       "[1.94],\n",
       "[3.67],\n",
       "[2.46],\n",
       "[2.57],\n",
       "[3.24],\n",
       "[3.96],\n",
       "[2.33]\n",
       "]\n",
       "Shape: (200, 1), dtype: float64"
      ]
     },
     "execution_count": 31,
     "metadata": {},
     "output_type": "execute_result"
    }
   ],
   "source": [
    "y = df['package']\n",
    "Y = y.array.reshape(-1 , 1)\n",
    "Y"
   ]
  },
  {
   "cell_type": "code",
   "execution_count": 27,
   "id": "9f501d47",
   "metadata": {},
   "outputs": [],
   "source": [
    "x = df['cgpa']\n",
    "X = x.array.reshape(-1 , 1)"
   ]
  },
  {
   "cell_type": "code",
   "execution_count": 30,
   "id": "0af64591",
   "metadata": {},
   "outputs": [],
   "source": [
    "X_b = add_dummy_feature(X)"
   ]
  },
  {
   "cell_type": "code",
   "execution_count": 32,
   "id": "2936759e",
   "metadata": {},
   "outputs": [],
   "source": [
    "best_theta = np.linalg.inv(X_b.T @ X_b) @ X_b.T @ y"
   ]
  },
  {
   "cell_type": "code",
   "execution_count": 33,
   "id": "87e9a009",
   "metadata": {},
   "outputs": [
    {
     "data": {
      "text/plain": [
       "array([-0.98567795,  0.56959129])"
      ]
     },
     "execution_count": 33,
     "metadata": {},
     "output_type": "execute_result"
    }
   ],
   "source": [
    "best_theta"
   ]
  },
  {
   "cell_type": "code",
   "execution_count": 34,
   "id": "0d791fd5",
   "metadata": {},
   "outputs": [],
   "source": [
    "X_new = X"
   ]
  },
  {
   "cell_type": "code",
   "execution_count": 35,
   "id": "f89ef53b",
   "metadata": {},
   "outputs": [],
   "source": [
    "X_new_b =  add_dummy_feature(X_new)"
   ]
  },
  {
   "cell_type": "code",
   "execution_count": 36,
   "id": "bb29cd92",
   "metadata": {},
   "outputs": [
    {
     "data": {
      "text/plain": [
       "array([2.93880607, 1.93062948, 3.46852598, 3.24068946, 2.96728564,\n",
       "       3.50839737, 2.84767147, 2.85906329, 2.48313304, 3.74762571,\n",
       "       2.04454774, 2.77932051, 4.10646823, 2.96158973, 3.41726276,\n",
       "       3.14385894, 2.91032651, 2.07872322, 2.96728564, 3.27486494,\n",
       "       3.16094668, 2.91602242, 2.5116126 , 2.54009217, 2.73375321,\n",
       "       3.16094668, 3.74762571, 2.10150687, 2.39769434, 3.08689981,\n",
       "       3.20651398, 3.62801154, 2.97867747, 2.63122678, 3.19512216,\n",
       "       2.92741425, 2.42617391, 2.37491069, 3.92419901, 3.24638537,\n",
       "       4.3570884 , 2.93880607, 2.40339026, 3.37739137, 1.91354174,\n",
       "       3.49700554, 2.47174121, 2.34073522, 3.92989493, 4.06659684,\n",
       "       4.47100666, 4.28873744, 3.78180119, 2.69957773, 2.92171834,\n",
       "       3.68497067, 2.34073522, 2.7736246 , 2.95589381, 3.32043224,\n",
       "       2.20972922, 2.13568235, 2.62553086, 4.23177831, 3.20651398,\n",
       "       3.34321589, 1.92493357, 2.72236138, 3.32043224, 3.17233851,\n",
       "       2.31225565, 3.26916903, 3.44574233, 3.82167258, 2.91602242,\n",
       "       2.98437338, 2.96728564, 4.13494779, 2.76792869, 3.10398755,\n",
       "       3.36030363, 2.48882895, 2.19264148, 3.82167258, 1.44078097,\n",
       "       1.74266436, 3.34891181, 3.62231563, 1.70848888, 2.67109817,\n",
       "       3.06411616, 2.55717991, 3.51409328, 2.88184695, 2.3350393 ,\n",
       "       2.79071234, 3.06411616, 2.420478  , 3.39447911, 2.77932051,\n",
       "       3.54257285, 2.83627964, 1.9363254 , 3.02994068, 3.35460772,\n",
       "       2.80780008, 2.50591669, 2.61983495, 3.4343505 , 3.44004641,\n",
       "       3.67357885, 2.10150687, 3.90141536, 2.96728564, 2.34073522,\n",
       "       3.77040937, 4.16342736, 3.06981207, 3.22929764, 3.22360172,\n",
       "       1.99328453, 2.71666547, 1.93062948, 1.91923766, 2.4660453 ,\n",
       "       3.18942624, 2.38060661, 2.87615103, 3.53118102, 3.16664259,\n",
       "       2.8191919 , 2.6426186 , 2.34073522, 2.46034939, 3.11537938,\n",
       "       2.48882895, 2.22681696, 3.0812039 , 3.5197892 , 3.10968346,\n",
       "       3.5197892 , 2.86475921, 2.96158973, 1.77683983, 2.52870034,\n",
       "       2.34073522, 2.47174121, 2.23820878, 3.32612816, 3.73053797,\n",
       "       2.60274721, 2.50022078, 3.2122099 , 3.53687693, 3.04702842,\n",
       "       2.99006929, 3.21790581, 2.69957773, 2.40339026, 3.97546223,\n",
       "       3.07550799, 3.17233851, 2.16416191, 4.10077232, 4.17481918,\n",
       "       3.69066658, 3.91280719, 3.64509928, 3.94128675, 4.31721701,\n",
       "       2.55717991, 3.57674833, 2.96158973, 2.85906329, 3.18373033,\n",
       "       3.02424477, 2.5970513 , 3.05272433, 3.65649111, 3.0812039 ,\n",
       "       2.54009217, 3.6963625 , 2.36351887, 3.16094668, 3.50270146,\n",
       "       2.60844312, 3.4799178 , 2.57996356, 3.20081807, 3.63370745,\n",
       "       2.54009217, 3.16094668, 3.71345024, 1.61735427, 3.50839737,\n",
       "       2.96158973, 2.36921478, 3.12107529, 3.36030363, 2.55717991])"
      ]
     },
     "execution_count": 36,
     "metadata": {},
     "output_type": "execute_result"
    }
   ],
   "source": [
    "y_predict = X_new_b @ best_theta\n",
    "y_predict"
   ]
  },
  {
   "cell_type": "code",
   "execution_count": 37,
   "id": "410e7f8c",
   "metadata": {},
   "outputs": [
    {
     "data": {
      "image/png": "[encoded data removed]",
      "text/plain": [
       "<Figure size 640x480 with 1 Axes>"
      ]
     },
     "metadata": {},
     "output_type": "display_data"
    }
   ],
   "source": [
    "plt.plot(X_new , y_predict , 'r-' , label = 'Predictions')\n",
    "plt.plot(X , Y , 'b.')\n",
    "plt.show()"
   ]
  },
  {
   "cell_type": "code",
   "execution_count": 39,
   "id": "9e6fa9dc",
   "metadata": {},
   "outputs": [],
   "source": [
    "from sklearn.linear_model import LinearRegression"
   ]
  },
  {
   "cell_type": "code",
   "execution_count": 40,
   "id": "be4542d8",
   "metadata": {},
   "outputs": [
    {
     "data": {
      "text/plain": [
       "(array([-0.98567795]), array([[0.56959129]]))"
      ]
     },
     "execution_count": 40,
     "metadata": {},
     "output_type": "execute_result"
    }
   ],
   "source": [
    "lr = LinearRegression()\n",
    "lr.fit(X , Y)\n",
    "lr.intercept_ , lr.coef_"
   ]
  },
  {
   "cell_type": "code",
   "execution_count": null,
   "id": "3b419c03",
   "metadata": {},
   "outputs": [],
   "source": []
  }
 ],
 "metadata": {
  "kernelspec": {
   "display_name": "Python 3 (ipykernel)",
   "language": "python",
   "name": "python3"
  },
  "language_info": {
   "codemirror_mode": {
    "name": "ipython",
    "version": 3
   },
   "file_extension": ".py",
   "mimetype": "text/x-python",
   "name": "python",
   "nbconvert_exporter": "python",
   "pygments_lexer": "ipython3",
   "version": "3.11.5"
  }
 },
 "nbformat": 4,
 "nbformat_minor": 5
}
